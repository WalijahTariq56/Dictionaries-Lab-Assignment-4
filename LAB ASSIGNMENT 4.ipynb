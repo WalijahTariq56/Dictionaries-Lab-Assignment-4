{
 "cells": [
  {
   "cell_type": "code",
   "execution_count": 1,
   "id": "5a18c07f-37f8-47eb-82ca-f9bdf6a424cf",
   "metadata": {},
   "outputs": [],
   "source": [
    "# WALIJAH TARIQ\n",
    "# FA25-BBD-088"
   ]
  },
  {
   "cell_type": "code",
   "execution_count": 2,
   "id": "f9bb5dbf-4501-4d0b-aef9-6e9e853d8e3b",
   "metadata": {},
   "outputs": [
    {
     "name": "stdout",
     "output_type": "stream",
     "text": [
      "{'name': 'mariam', 'age': 19, 'city': 'lahore', 'hobby': 'singing'}\n"
     ]
    }
   ],
   "source": [
    "info_dict={'name':'mariam','age':19,'city':'lahore','hobby':'singing'}\n",
    "print(info_dict)"
   ]
  },
  {
   "cell_type": "code",
   "execution_count": 3,
   "id": "abe1ac47-09a4-4d72-a0c5-e9240c153dfa",
   "metadata": {},
   "outputs": [
    {
     "name": "stdout",
     "output_type": "stream",
     "text": [
      "{'jen': 'python', 'edward': 'c', 'henry': 'java'}\n"
     ]
    }
   ],
   "source": [
    "programming_languages={\n",
    "    'jen':'python',\n",
    "    'edward':'c',\n",
    "    'henry':'java'\n",
    "}\n",
    "print(programming_languages)"
   ]
  },
  {
   "cell_type": "code",
   "execution_count": 5,
   "id": "c8c4daa6-02c6-4c91-a646-00ed9aeb9dd6",
   "metadata": {},
   "outputs": [
    {
     "name": "stdout",
     "output_type": "stream",
     "text": [
      "Student Grades: {'Ali': 98, 'Sara': 87, 'Aima': 65, 'Usman': 36}\n",
      "Average Grade: 9.0\n"
     ]
    }
   ],
   "source": [
    "student_grades = {\n",
    "    \"Ali\": 98,\n",
    "    \"Sara\": 87,\n",
    "    \"Aima\": 65,\n",
    "    \"Usman\": 36\n",
    "}\n",
    "total = 0\n",
    "for grade in student_grades.values():\n",
    "    total_grade= total+ grade\n",
    "average = total_grade / len(student_grades)\n",
    "print(\"Student Grades:\", student_grades)\n",
    "print(\"Average Grade:\", average)"
   ]
  },
  {
   "cell_type": "code",
   "execution_count": 6,
   "id": "a97b23d0-6ec9-4dc8-9985-9d46367391f3",
   "metadata": {},
   "outputs": [
    {
     "name": "stdout",
     "output_type": "stream",
     "text": [
      "Total Inventory Value: 3040000\n",
      "Low Stock Items:\n",
      "laptop has low stock.\n"
     ]
    }
   ],
   "source": [
    "inventory={}\n",
    "inventory['smart_phones']={'quantity':20,'price':130000}\n",
    "inventory['mouses']={'quantity':10,'price':5000}\n",
    "inventory['laptop']={'quantity':5,'price':80000}\n",
    "inventory['mouses']['quantity']=8\n",
    "total=0\n",
    "for item in inventory:\n",
    "        total=total + inventory[item][\"quantity\"] * inventory[item][\"price\"]\n",
    "print(\"Total Inventory Value:\", total)\n",
    "print(\"Low Stock Items:\")\n",
    "for item in inventory:\n",
    "    if inventory[item][\"quantity\"] <= 5:\n",
    "        print(item, \"has low stock.\")"
   ]
  },
  {
   "cell_type": "code",
   "execution_count": 7,
   "id": "3153de65-0153-44c6-b34c-be2ce4378f60",
   "metadata": {},
   "outputs": [
    {
     "name": "stdout",
     "output_type": "stream",
     "text": [
      "Average Grades:\n",
      "Ali = 82.66666666666667\n",
      "Ayesha = 77.33333333333333\n",
      "Bilal = 66.33333333333333\n",
      "\n",
      "Highest in Math : Ali = 95\n",
      "Lowest in Math  : Bilal = 56\n"
     ]
    }
   ],
   "source": [
    "students = {\n",
    "    \"Ali\": {\"Math\": 95, \"Science\": 67, \"English\": 86},\n",
    "    \"Ayesha\": {\"Math\": 65, \"Science\": 75, \"English\": 92},\n",
    "    \"Bilal\": {\"Math\": 56, \"Science\": 66, \"English\": 77}\n",
    "}\n",
    "print(\"Average Grades:\")\n",
    "averages = {}\n",
    "for name, grades in students.items():\n",
    "    avg = sum(grades.values()) / len(grades)\n",
    "    averages[name] = avg\n",
    "    print(name, \"=\", avg)\n",
    "subject = \"Math\"\n",
    "subject_grades = {name: grades[subject] for name, grades in students.items()}\n",
    "\n",
    "highest = max(subject_grades, key=subject_grades.get)\n",
    "lowest = min(subject_grades, key=subject_grades.get)\n",
    "print(\"\\nHighest in\", subject, \":\", highest, \"=\", subject_grades[highest])\n",
    "print(\"Lowest in\", subject, \" :\", lowest, \"=\", subject_grades[lowest])"
   ]
  }
 ],
 "metadata": {
  "kernelspec": {
   "display_name": "Python 3 (ipykernel)",
   "language": "python",
   "name": "python3"
  },
  "language_info": {
   "codemirror_mode": {
    "name": "ipython",
    "version": 3
   },
   "file_extension": ".py",
   "mimetype": "text/x-python",
   "name": "python",
   "nbconvert_exporter": "python",
   "pygments_lexer": "ipython3",
   "version": "3.13.5"
  }
 },
 "nbformat": 4,
 "nbformat_minor": 5
}
